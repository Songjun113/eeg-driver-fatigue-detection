{
 "cells": [
  {
   "cell_type": "code",
   "execution_count": null,
   "metadata": {},
   "outputs": [],
   "source": [
    "# import and config\n",
    "import mne\n",
    "import numpy as np\n",
    "import matplotlib.pyplot as plt\n",
    "import pandas as pd\n",
    "from zipfile import ZipFile\n",
    "from pathlib import Path\n",
    "from os import getcwd, listdir, path\n",
    "import os \n",
    "import scipy.io\n",
    "import warnings\n",
    "from typing import Dict, Generic\n",
    "from sklearn import preprocessing\n",
    "from typing import TypeVar\n",
    "\n",
    "warnings.filterwarnings('ignore')\n",
    "\n",
    "%cd \"/home/matej/2-fer/uuzop/projekt\"\n",
    "UNZIP_DATA = False\n",
    "\n",
    "PATH_CWD = Path(getcwd()) \n",
    "\n",
    "PATH_DATA = Path(PATH_CWD, \"data\")\n",
    "PATH_DATA_MAT = Path(PATH_DATA, \"mat\")\n",
    "PATH_DATA_CNT = Path(PATH_DATA, \"cnt\")\n",
    "\n",
    "PATH_ZIP_CNT = Path(PATH_DATA, \"5202739.zip\")\n",
    "PATH_ZIP_MAT = Path(PATH_DATA, \"5202751.zip\")\n",
    "\n"
   ]
  },
  {
   "cell_type": "code",
   "execution_count": null,
   "metadata": {},
   "outputs": [],
   "source": [
    "# Abstractions\n",
    "\n",
    "T = TypeVar('T')      # Declare type variable\n"
   ]
  },
  {
   "cell_type": "code",
   "execution_count": null,
   "metadata": {},
   "outputs": [],
   "source": [
    "# CNT - unzip and restructure data\n",
    "if  UNZIP_DATA:\n",
    "    with ZipFile(PATH_ZIP_CNT, 'r') as zip_ref:\n",
    "        zip_ref.extractall(PATH_DATA_CNT)\n",
    "    \n",
    "    zips = [file for file in PATH_DATA_CNT.iterdir() if str(file).endswith(\".zip\")]\n",
    "    \n",
    "    for zip_item in zips:\n",
    "        \n",
    "        if not str(zip_item).endswith(\".zip\"):\n",
    "            continue\n",
    "        \n",
    "        zip_ref = ZipFile(zip_item) # create zipfile object\n",
    "        \n",
    "        for cnt_file in zip_ref.namelist()[1:]: # ignore \"9/\" directory\n",
    "        \n",
    "            prefix_number = zip_item.stem # 9\n",
    "            state_name = Path(cnt_file).stem.lower().split(' ')[0] # \"Normal State\" -> \"normal\"\n",
    "            filename = Path(prefix_number + '_' + state_name + \".cnt\")\n",
    "            \n",
    "            with open(Path(PATH_DATA_CNT, filename), \"wb\") as new_file:\n",
    "                new_file.write(zip_ref.read(cnt_file))\n",
    "                \n",
    "    # Delete zips as they were temporary\n",
    "    for zip_item in zips:\n",
    "    \tos.remove(zip_item)"
   ]
  },
  {
   "cell_type": "code",
   "execution_count": null,
   "metadata": {},
   "outputs": [],
   "source": [
    "# MAT - unzip data\n",
    "if  UNZIP_DATA:\n",
    "    with ZipFile(PATH_ZIP_MAT, 'r') as zip_ref:\n",
    "        zip_ref.extractall(PATH_DATA_MAT)"
   ]
  },
  {
   "cell_type": "code",
   "execution_count": null,
   "metadata": {},
   "outputs": [],
   "source": [
    "mat = scipy.io.loadmat(Path(PATH_DATA_MAT, '1.mat'))\n",
    "keys = [key for key in mat.keys() if not key.startswith('__')]\n",
    "\n",
    "[print(key, \"with shape\",mat[key].shape) for key in keys]\n",
    "\n",
    "is_fatigue_mask = pd.Series(mat[\"Class_label\"].squeeze() == 1)\n",
    "keys_entropy = [\"FE\", \"SE\", \"AE\", \"PE\"]\n",
    "\n",
    "\n",
    "entropies: Dict[str,pd.DataFrame]={}\n",
    "for key in keys_entropy:\n",
    "    entropies[key] = pd.DataFrame(mat[key])\n",
    "    print(key, \"\\n\",entropies[key].describe()) \n",
    "      \n"
   ]
  },
  {
   "cell_type": "code",
   "execution_count": null,
   "metadata": {},
   "outputs": [],
   "source": [
    "        \n",
    "def dict_apply_procedture(old_dict: Dict[str, T], procedure) -> Dict[str, T]:\n",
    "    return {k: procedure(v) for k, v in old_dict.items()}\n",
    "    \n",
    "def min_max_dataframe(df: pd.DataFrame):\n",
    "    return pd.DataFrame(preprocessing.MinMaxScaler().fit_transform(df))\n",
    "\n",
    "for name, entropy in entropies.items():\n",
    "    plt.scatter(entropy.index.tolist(), entropy.loc[:,1],  label=name)\n",
    "    plt.legend()\n",
    "\n",
    "plt.show()\n",
    "\n",
    "entropies_scaled = dict_apply_procedture(entropies, min_max_dataframe)\n",
    "\n",
    "for name, entropy in entropies_scaled.items():\n",
    "    plt.scatter(entropy.index.tolist(), entropy.loc[:,1],  label=name)\n",
    "    plt.legend()\n",
    "    \n"
   ]
  },
  {
   "cell_type": "code",
   "execution_count": null,
   "metadata": {},
   "outputs": [],
   "source": [
    "\n"
   ]
  }
 ],
 "metadata": {
  "interpreter": {
   "hash": "fe19c08dd3cf647ff4425e243f58ff50b00b8fe922eacf7722406d8fcabc1f65"
  },
  "kernelspec": {
   "display_name": "Python 3.8.10 64-bit ('venv': venv)",
   "name": "python3"
  },
  "language_info": {
   "codemirror_mode": {
    "name": "ipython",
    "version": 3
   },
   "file_extension": ".py",
   "mimetype": "text/x-python",
   "name": "python",
   "nbconvert_exporter": "python",
   "pygments_lexer": "ipython3",
   "version": "3.8.10"
  },
  "orig_nbformat": 4
 },
 "nbformat": 4,
 "nbformat_minor": 2
}
